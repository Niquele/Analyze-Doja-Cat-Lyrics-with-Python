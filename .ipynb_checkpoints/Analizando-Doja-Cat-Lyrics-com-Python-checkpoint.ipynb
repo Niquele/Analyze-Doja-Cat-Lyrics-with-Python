{
 "cells": [
  {
   "cell_type": "markdown",
   "id": "41a291e1",
   "metadata": {},
   "source": [
    "Analizando Doja Cat Lyrics com Python"
   ]
  },
  {
   "cell_type": "code",
   "execution_count": 1,
   "id": "9efe657d",
   "metadata": {},
   "outputs": [],
   "source": [
    "%matplotlib inline\n",
    "\n",
    "import pandas as pd\n",
    "import string\n",
    "import seaborn as sns\n",
    "import matplotlib.pyplot as plt\n",
    "import collections\n",
    "import nltk\n",
    "nltk.download()\n",
    "from nltk.tokenize import word_tokenize\n",
    "from nltk.sentiment import SentimentIntensityAnalyzer"
   ]
  },
  {
   "cell_type": "markdown",
   "id": "ca1cb769",
   "metadata": {},
   "source": [
    "-- Load Dataset"
   ]
  },
  {
   "cell_type": "code",
   "execution_count": 3,
   "id": "31821717",
   "metadata": {},
   "outputs": [],
   "source": [
    "all_lyrics = pd.read_csv('Doja_Cat_lyrics_all.csv')"
   ]
  },
  {
   "cell_type": "code",
   "execution_count": 4,
   "id": "3ec18235",
   "metadata": {},
   "outputs": [
    {
     "data": {
      "text/plain": [
       "Index(['Unnamed: 0', 'Track Number', 'Track Title', 'Album Name',\n",
       "       'Year Released', 'Lyric'],\n",
       "      dtype='object')"
      ]
     },
     "execution_count": 4,
     "metadata": {},
     "output_type": "execute_result"
    }
   ],
   "source": [
    "all_lyrics.columns"
   ]
  },
  {
   "cell_type": "code",
   "execution_count": 5,
   "id": "cfb45776",
   "metadata": {},
   "outputs": [
    {
     "name": "stdout",
     "output_type": "stream",
     "text": [
      "<class 'pandas.core.frame.DataFrame'>\n",
      "RangeIndex: 3248 entries, 0 to 3247\n",
      "Data columns (total 6 columns):\n",
      " #   Column         Non-Null Count  Dtype \n",
      "---  ------         --------------  ----- \n",
      " 0   Unnamed: 0     3248 non-null   int64 \n",
      " 1   Track Number   3248 non-null   int64 \n",
      " 2   Track Title    3248 non-null   object\n",
      " 3   Album Name     3248 non-null   object\n",
      " 4   Year Released  3248 non-null   int64 \n",
      " 5   Lyric          3248 non-null   object\n",
      "dtypes: int64(3), object(3)\n",
      "memory usage: 152.4+ KB\n"
     ]
    }
   ],
   "source": [
    "all_lyrics.info()"
   ]
  },
  {
   "cell_type": "code",
   "execution_count": 6,
   "id": "637a273d",
   "metadata": {},
   "outputs": [
    {
     "data": {
      "text/html": [
       "<div>\n",
       "<style scoped>\n",
       "    .dataframe tbody tr th:only-of-type {\n",
       "        vertical-align: middle;\n",
       "    }\n",
       "\n",
       "    .dataframe tbody tr th {\n",
       "        vertical-align: top;\n",
       "    }\n",
       "\n",
       "    .dataframe thead th {\n",
       "        text-align: right;\n",
       "    }\n",
       "</style>\n",
       "<table border=\"1\" class=\"dataframe\">\n",
       "  <thead>\n",
       "    <tr style=\"text-align: right;\">\n",
       "      <th></th>\n",
       "      <th>Unnamed: 0</th>\n",
       "      <th>Track Number</th>\n",
       "      <th>Track Title</th>\n",
       "      <th>Album Name</th>\n",
       "      <th>Year Released</th>\n",
       "      <th>Lyric</th>\n",
       "    </tr>\n",
       "  </thead>\n",
       "  <tbody>\n",
       "    <tr>\n",
       "      <th>0</th>\n",
       "      <td>0</td>\n",
       "      <td>1</td>\n",
       "      <td>Woman</td>\n",
       "      <td>Planet Her</td>\n",
       "      <td>2021</td>\n",
       "      <td>b'Hey, woman\\n'</td>\n",
       "    </tr>\n",
       "    <tr>\n",
       "      <th>1</th>\n",
       "      <td>1</td>\n",
       "      <td>1</td>\n",
       "      <td>Woman</td>\n",
       "      <td>Planet Her</td>\n",
       "      <td>2021</td>\n",
       "      <td>b'Hey, woman\\n'</td>\n",
       "    </tr>\n",
       "    <tr>\n",
       "      <th>2</th>\n",
       "      <td>2</td>\n",
       "      <td>1</td>\n",
       "      <td>Woman</td>\n",
       "      <td>Planet Her</td>\n",
       "      <td>2021</td>\n",
       "      <td>b'Woman\\n'</td>\n",
       "    </tr>\n",
       "    <tr>\n",
       "      <th>3</th>\n",
       "      <td>3</td>\n",
       "      <td>1</td>\n",
       "      <td>Woman</td>\n",
       "      <td>Planet Her</td>\n",
       "      <td>2021</td>\n",
       "      <td>b'Let me be your woman\\n'</td>\n",
       "    </tr>\n",
       "    <tr>\n",
       "      <th>4</th>\n",
       "      <td>4</td>\n",
       "      <td>1</td>\n",
       "      <td>Woman</td>\n",
       "      <td>Planet Her</td>\n",
       "      <td>2021</td>\n",
       "      <td>b'Woman, woman, woman (\\n'</td>\n",
       "    </tr>\n",
       "  </tbody>\n",
       "</table>\n",
       "</div>"
      ],
      "text/plain": [
       "   Unnamed: 0  Track Number Track Title  Album Name  Year Released  \\\n",
       "0           0             1       Woman  Planet Her           2021   \n",
       "1           1             1       Woman  Planet Her           2021   \n",
       "2           2             1       Woman  Planet Her           2021   \n",
       "3           3             1       Woman  Planet Her           2021   \n",
       "4           4             1       Woman  Planet Her           2021   \n",
       "\n",
       "                        Lyric  \n",
       "0             b'Hey, woman\\n'  \n",
       "1             b'Hey, woman\\n'  \n",
       "2                  b'Woman\\n'  \n",
       "3   b'Let me be your woman\\n'  \n",
       "4  b'Woman, woman, woman (\\n'  "
      ]
     },
     "execution_count": 6,
     "metadata": {},
     "output_type": "execute_result"
    }
   ],
   "source": [
    "all_lyrics.head()"
   ]
  },
  {
   "cell_type": "code",
   "execution_count": 7,
   "id": "baa835c6",
   "metadata": {},
   "outputs": [
    {
     "data": {
      "text/html": [
       "<div>\n",
       "<style scoped>\n",
       "    .dataframe tbody tr th:only-of-type {\n",
       "        vertical-align: middle;\n",
       "    }\n",
       "\n",
       "    .dataframe tbody tr th {\n",
       "        vertical-align: top;\n",
       "    }\n",
       "\n",
       "    .dataframe thead th {\n",
       "        text-align: right;\n",
       "    }\n",
       "</style>\n",
       "<table border=\"1\" class=\"dataframe\">\n",
       "  <thead>\n",
       "    <tr style=\"text-align: right;\">\n",
       "      <th></th>\n",
       "      <th>Unnamed: 0</th>\n",
       "      <th>Track Number</th>\n",
       "      <th>Track Title</th>\n",
       "      <th>Album Name</th>\n",
       "      <th>Year Released</th>\n",
       "      <th>Lyric</th>\n",
       "    </tr>\n",
       "  </thead>\n",
       "  <tbody>\n",
       "    <tr>\n",
       "      <th>3243</th>\n",
       "      <td>46</td>\n",
       "      <td>49</td>\n",
       "      <td>Control</td>\n",
       "      <td>Purrr! - EP</td>\n",
       "      <td>2014</td>\n",
       "      <td>b'Way-o, oh ah\\n'</td>\n",
       "    </tr>\n",
       "    <tr>\n",
       "      <th>3244</th>\n",
       "      <td>47</td>\n",
       "      <td>49</td>\n",
       "      <td>Control</td>\n",
       "      <td>Purrr! - EP</td>\n",
       "      <td>2014</td>\n",
       "      <td>b'Way-o ah\\n'</td>\n",
       "    </tr>\n",
       "    <tr>\n",
       "      <th>3245</th>\n",
       "      <td>48</td>\n",
       "      <td>49</td>\n",
       "      <td>Control</td>\n",
       "      <td>Purrr! - EP</td>\n",
       "      <td>2014</td>\n",
       "      <td>b'Way-o, oh ah\\n'</td>\n",
       "    </tr>\n",
       "    <tr>\n",
       "      <th>3246</th>\n",
       "      <td>49</td>\n",
       "      <td>49</td>\n",
       "      <td>Control</td>\n",
       "      <td>Purrr! - EP</td>\n",
       "      <td>2014</td>\n",
       "      <td>b'Way-o ah\\n'</td>\n",
       "    </tr>\n",
       "    <tr>\n",
       "      <th>3247</th>\n",
       "      <td>50</td>\n",
       "      <td>49</td>\n",
       "      <td>Control</td>\n",
       "      <td>Purrr! - EP</td>\n",
       "      <td>2014</td>\n",
       "      <td>b'Way-o, oh ah\\n'</td>\n",
       "    </tr>\n",
       "  </tbody>\n",
       "</table>\n",
       "</div>"
      ],
      "text/plain": [
       "      Unnamed: 0  Track Number Track Title   Album Name  Year Released  \\\n",
       "3243          46            49     Control  Purrr! - EP           2014   \n",
       "3244          47            49     Control  Purrr! - EP           2014   \n",
       "3245          48            49     Control  Purrr! - EP           2014   \n",
       "3246          49            49     Control  Purrr! - EP           2014   \n",
       "3247          50            49     Control  Purrr! - EP           2014   \n",
       "\n",
       "                  Lyric  \n",
       "3243  b'Way-o, oh ah\\n'  \n",
       "3244      b'Way-o ah\\n'  \n",
       "3245  b'Way-o, oh ah\\n'  \n",
       "3246      b'Way-o ah\\n'  \n",
       "3247  b'Way-o, oh ah\\n'  "
      ]
     },
     "execution_count": 7,
     "metadata": {},
     "output_type": "execute_result"
    }
   ],
   "source": [
    "all_lyrics.tail()"
   ]
  },
  {
   "cell_type": "markdown",
   "id": "dee64921",
   "metadata": {},
   "source": [
    "-- Clean the lyric text\n",
    "To accurately count keyword mentions, we need to make everything lowercase everything, remove punctuation, and exclude stop words."
   ]
  },
  {
   "cell_type": "code",
   "execution_count": 8,
   "id": "7b61365e",
   "metadata": {},
   "outputs": [
    {
     "name": "stderr",
     "output_type": "stream",
     "text": [
      "C:\\Users\\nique\\AppData\\Local\\Temp\\ipykernel_19680\\1812513654.py:5: FutureWarning: The default value of regex will change from True to False in a future version.\n",
      "  all_lyrics['new_lyrics']= all_lyrics['new_lyrics'].str.replace('[^\\w\\s]',' ')\n"
     ]
    }
   ],
   "source": [
    "#lowercase\n",
    "all_lyrics['new_lyrics'] = all_lyrics['Lyric'].str.lower()\n",
    "\n",
    "#remove punctuation\n",
    "all_lyrics['new_lyrics']= all_lyrics['new_lyrics'].str.replace('[^\\w\\s]',' ')\n",
    "\n",
    "#remove stopwords\n",
    "stop = ['is','it','oh','of','uh','that','this','yeah','le','might',\n",
    "        'a','am', 'was', 'were', 'be', 'being', 'been','la','hey','b', 'n']\n",
    "\n",
    "all_lyrics['new_lyrics'] = all_lyrics['new_lyrics'].apply(lambda x: ' '.join([word for word in x.split() if word not in (stop)]))"
   ]
  },
  {
   "cell_type": "raw",
   "id": "4d3eded7",
   "metadata": {},
   "source": [
    "4. Keywords list"
   ]
  },
  {
   "cell_type": "code",
   "execution_count": 9,
   "id": "7ec54745",
   "metadata": {},
   "outputs": [],
   "source": [
    "#Love language related words\n",
    "words_affirmation = ['love','friend','friendship','great','proud','baby','mine','feel','feelings','perfect',\n",
    "                     'precious','like you','beauty']\n",
    "quality_time = ['watch','never','now','time','spend','text','texting','follow','chill','alone','play',\n",
    "                   'stay','party','talking','talk','sleep']\n",
    "physical_touch = ['kiss','love','sex','fuck','eyes','fight','hold','sexuality','face','body','mouth','dick',\n",
    "                'ass','touch','eye','pussy','eye']\n",
    "acts_service = ['turn','clean','stay','act','patient','relax','drive','notice','work','need','wait','focused',\n",
    "              'influence', 'struggle','sleep','share','sharing','honest']\n",
    "receiving_gifts = ['weed','sweet','ticket','bussines','send','spent','t-shirt','tiffanys','camera','getting','get',\n",
    "            'money','cash','more','ring','picture','clothes']"
   ]
  },
  {
   "cell_type": "code",
   "execution_count": 10,
   "id": "e0d0d49c",
   "metadata": {},
   "outputs": [
    {
     "name": "stdout",
     "output_type": "stream",
     "text": [
      "Words of Affirmation:  452\n",
      "Quality Time:  497\n",
      "Physical Touch:  377\n",
      "Acts of Service:  290\n",
      "Receiving Gifts:  374\n"
     ]
    }
   ],
   "source": [
    "#creating a regular expression string for each list of words\n",
    "words_affirmation_regex = '|'.join(words_affirmation)\n",
    "quality_time_regex = '|'.join(quality_time)\n",
    "physical_touch_regex = '|'.join(physical_touch)\n",
    "acts_service_regex = '|'.join(acts_service)\n",
    "receiving_gifts_regex = '|'.join(receiving_gifts)\n",
    "\n",
    "#creating a new column for each category of words\n",
    "all_lyrics['Words of Affirmation'] = all_lyrics['new_lyrics'].str.contains(words_affirmation_regex)\n",
    "all_lyrics['Quality Time'] = all_lyrics['new_lyrics'].str.contains(quality_time_regex)\n",
    "all_lyrics['Physical Touch'] = all_lyrics['new_lyrics'].str.contains(physical_touch_regex)\n",
    "all_lyrics['Acts of Service'] = all_lyrics['new_lyrics'].str.contains(acts_service_regex)\n",
    "all_lyrics['Receiving Gifts'] = all_lyrics['new_lyrics'].str.contains(receiving_gifts_regex)\n",
    "\n",
    "#counting the number of times each category of word appears in the lyrics\n",
    "words_affirmation_count = sum(all_lyrics['Words of Affirmation'])\n",
    "quality_time_count = sum(all_lyrics['Quality Time'])\n",
    "physical_touch_count = sum(all_lyrics['Physical Touch'])\n",
    "acts_service_count = sum(all_lyrics['Acts of Service'])\n",
    "receiving_gifts_count = sum(all_lyrics['Receiving Gifts'])\n",
    "\n",
    "#print\n",
    "print(\"Words of Affirmation: \", words_affirmation_count)\n",
    "print(\"Quality Time: \", quality_time_count)\n",
    "print(\"Physical Touch: \", physical_touch_count)\n",
    "print(\"Acts of Service: \", acts_service_count)\n",
    "print(\"Receiving Gifts: \", receiving_gifts_count)\n",
    "\n"
   ]
  },
  {
   "cell_type": "markdown",
   "id": "f50932ae",
   "metadata": {},
   "source": [
    "Visualize how Doja Cat's lyrics love language have changed over time"
   ]
  },
  {
   "cell_type": "code",
   "execution_count": 11,
   "id": "21eab0f9",
   "metadata": {},
   "outputs": [
    {
     "data": {
      "text/html": [
       "<div>\n",
       "<style scoped>\n",
       "    .dataframe tbody tr th:only-of-type {\n",
       "        vertical-align: middle;\n",
       "    }\n",
       "\n",
       "    .dataframe tbody tr th {\n",
       "        vertical-align: top;\n",
       "    }\n",
       "\n",
       "    .dataframe thead th {\n",
       "        text-align: right;\n",
       "    }\n",
       "</style>\n",
       "<table border=\"1\" class=\"dataframe\">\n",
       "  <thead>\n",
       "    <tr style=\"text-align: right;\">\n",
       "      <th></th>\n",
       "      <th>Year Released</th>\n",
       "      <th>Unnamed: 0</th>\n",
       "      <th>Track Number</th>\n",
       "      <th>Words of Affirmation</th>\n",
       "      <th>Quality Time</th>\n",
       "      <th>Physical Touch</th>\n",
       "      <th>Acts of Service</th>\n",
       "      <th>Receiving Gifts</th>\n",
       "    </tr>\n",
       "  </thead>\n",
       "  <tbody>\n",
       "    <tr>\n",
       "      <th>0</th>\n",
       "      <td>2014</td>\n",
       "      <td>9118</td>\n",
       "      <td>13865</td>\n",
       "      <td>19</td>\n",
       "      <td>59</td>\n",
       "      <td>16</td>\n",
       "      <td>12</td>\n",
       "      <td>27</td>\n",
       "    </tr>\n",
       "    <tr>\n",
       "      <th>1</th>\n",
       "      <td>2018</td>\n",
       "      <td>26920</td>\n",
       "      <td>30164</td>\n",
       "      <td>120</td>\n",
       "      <td>172</td>\n",
       "      <td>103</td>\n",
       "      <td>70</td>\n",
       "      <td>67</td>\n",
       "    </tr>\n",
       "    <tr>\n",
       "      <th>2</th>\n",
       "      <td>2019</td>\n",
       "      <td>30222</td>\n",
       "      <td>20944</td>\n",
       "      <td>86</td>\n",
       "      <td>116</td>\n",
       "      <td>92</td>\n",
       "      <td>78</td>\n",
       "      <td>91</td>\n",
       "    </tr>\n",
       "    <tr>\n",
       "      <th>3</th>\n",
       "      <td>2021</td>\n",
       "      <td>47217</td>\n",
       "      <td>12332</td>\n",
       "      <td>227</td>\n",
       "      <td>150</td>\n",
       "      <td>166</td>\n",
       "      <td>130</td>\n",
       "      <td>189</td>\n",
       "    </tr>\n",
       "  </tbody>\n",
       "</table>\n",
       "</div>"
      ],
      "text/plain": [
       "   Year Released  Unnamed: 0  Track Number  Words of Affirmation  \\\n",
       "0           2014        9118         13865                    19   \n",
       "1           2018       26920         30164                   120   \n",
       "2           2019       30222         20944                    86   \n",
       "3           2021       47217         12332                   227   \n",
       "\n",
       "   Quality Time  Physical Touch  Acts of Service  Receiving Gifts  \n",
       "0            59              16               12               27  \n",
       "1           172             103               70               67  \n",
       "2           116              92               78               91  \n",
       "3           150             166              130              189  "
      ]
     },
     "execution_count": 11,
     "metadata": {},
     "output_type": "execute_result"
    }
   ],
   "source": [
    "#create a new dataframe for yearly mentions that groups mentions by year\n",
    "yearly_mentions = all_lyrics.groupby('Year Released').sum().reset_index()\n",
    "yearly_mentions\n"
   ]
  },
  {
   "cell_type": "code",
   "execution_count": 12,
   "id": "07efbff3",
   "metadata": {},
   "outputs": [
    {
     "data": {
      "text/html": [
       "<div>\n",
       "<style scoped>\n",
       "    .dataframe tbody tr th:only-of-type {\n",
       "        vertical-align: middle;\n",
       "    }\n",
       "\n",
       "    .dataframe tbody tr th {\n",
       "        vertical-align: top;\n",
       "    }\n",
       "\n",
       "    .dataframe thead th {\n",
       "        text-align: right;\n",
       "    }\n",
       "</style>\n",
       "<table border=\"1\" class=\"dataframe\">\n",
       "  <thead>\n",
       "    <tr style=\"text-align: right;\">\n",
       "      <th></th>\n",
       "      <th>Year Released</th>\n",
       "      <th>Unnamed: 0</th>\n",
       "      <th>Track Number</th>\n",
       "      <th>Words of Affirmation</th>\n",
       "      <th>Quality Time</th>\n",
       "      <th>Physical Touch</th>\n",
       "      <th>Acts of Service</th>\n",
       "      <th>Receiving Gifts</th>\n",
       "    </tr>\n",
       "  </thead>\n",
       "  <tbody>\n",
       "    <tr>\n",
       "      <th>3</th>\n",
       "      <td>2021</td>\n",
       "      <td>47217</td>\n",
       "      <td>12332</td>\n",
       "      <td>227</td>\n",
       "      <td>150</td>\n",
       "      <td>166</td>\n",
       "      <td>130</td>\n",
       "      <td>189</td>\n",
       "    </tr>\n",
       "    <tr>\n",
       "      <th>1</th>\n",
       "      <td>2018</td>\n",
       "      <td>26920</td>\n",
       "      <td>30164</td>\n",
       "      <td>120</td>\n",
       "      <td>172</td>\n",
       "      <td>103</td>\n",
       "      <td>70</td>\n",
       "      <td>67</td>\n",
       "    </tr>\n",
       "    <tr>\n",
       "      <th>2</th>\n",
       "      <td>2019</td>\n",
       "      <td>30222</td>\n",
       "      <td>20944</td>\n",
       "      <td>86</td>\n",
       "      <td>116</td>\n",
       "      <td>92</td>\n",
       "      <td>78</td>\n",
       "      <td>91</td>\n",
       "    </tr>\n",
       "    <tr>\n",
       "      <th>0</th>\n",
       "      <td>2014</td>\n",
       "      <td>9118</td>\n",
       "      <td>13865</td>\n",
       "      <td>19</td>\n",
       "      <td>59</td>\n",
       "      <td>16</td>\n",
       "      <td>12</td>\n",
       "      <td>27</td>\n",
       "    </tr>\n",
       "  </tbody>\n",
       "</table>\n",
       "</div>"
      ],
      "text/plain": [
       "   Year Released  Unnamed: 0  Track Number  Words of Affirmation  \\\n",
       "3           2021       47217         12332                   227   \n",
       "1           2018       26920         30164                   120   \n",
       "2           2019       30222         20944                    86   \n",
       "0           2014        9118         13865                    19   \n",
       "\n",
       "   Quality Time  Physical Touch  Acts of Service  Receiving Gifts  \n",
       "3           150             166              130              189  \n",
       "1           172             103               70               67  \n",
       "2           116              92               78               91  \n",
       "0            59              16               12               27  "
      ]
     },
     "execution_count": 12,
     "metadata": {},
     "output_type": "execute_result"
    }
   ],
   "source": [
    "yearly_mentions.sort_values(by='Words of Affirmation', ascending=False)"
   ]
  },
  {
   "cell_type": "code",
   "execution_count": 13,
   "id": "eb21b135",
   "metadata": {},
   "outputs": [
    {
     "data": {
      "text/html": [
       "<div>\n",
       "<style scoped>\n",
       "    .dataframe tbody tr th:only-of-type {\n",
       "        vertical-align: middle;\n",
       "    }\n",
       "\n",
       "    .dataframe tbody tr th {\n",
       "        vertical-align: top;\n",
       "    }\n",
       "\n",
       "    .dataframe thead th {\n",
       "        text-align: right;\n",
       "    }\n",
       "</style>\n",
       "<table border=\"1\" class=\"dataframe\">\n",
       "  <thead>\n",
       "    <tr style=\"text-align: right;\">\n",
       "      <th></th>\n",
       "      <th>Year Released</th>\n",
       "      <th>Unnamed: 0</th>\n",
       "      <th>Track Number</th>\n",
       "      <th>Words of Affirmation</th>\n",
       "      <th>Quality Time</th>\n",
       "      <th>Physical Touch</th>\n",
       "      <th>Acts of Service</th>\n",
       "      <th>Receiving Gifts</th>\n",
       "    </tr>\n",
       "  </thead>\n",
       "  <tbody>\n",
       "    <tr>\n",
       "      <th>1</th>\n",
       "      <td>2018</td>\n",
       "      <td>26920</td>\n",
       "      <td>30164</td>\n",
       "      <td>120</td>\n",
       "      <td>172</td>\n",
       "      <td>103</td>\n",
       "      <td>70</td>\n",
       "      <td>67</td>\n",
       "    </tr>\n",
       "    <tr>\n",
       "      <th>3</th>\n",
       "      <td>2021</td>\n",
       "      <td>47217</td>\n",
       "      <td>12332</td>\n",
       "      <td>227</td>\n",
       "      <td>150</td>\n",
       "      <td>166</td>\n",
       "      <td>130</td>\n",
       "      <td>189</td>\n",
       "    </tr>\n",
       "    <tr>\n",
       "      <th>2</th>\n",
       "      <td>2019</td>\n",
       "      <td>30222</td>\n",
       "      <td>20944</td>\n",
       "      <td>86</td>\n",
       "      <td>116</td>\n",
       "      <td>92</td>\n",
       "      <td>78</td>\n",
       "      <td>91</td>\n",
       "    </tr>\n",
       "    <tr>\n",
       "      <th>0</th>\n",
       "      <td>2014</td>\n",
       "      <td>9118</td>\n",
       "      <td>13865</td>\n",
       "      <td>19</td>\n",
       "      <td>59</td>\n",
       "      <td>16</td>\n",
       "      <td>12</td>\n",
       "      <td>27</td>\n",
       "    </tr>\n",
       "  </tbody>\n",
       "</table>\n",
       "</div>"
      ],
      "text/plain": [
       "   Year Released  Unnamed: 0  Track Number  Words of Affirmation  \\\n",
       "1           2018       26920         30164                   120   \n",
       "3           2021       47217         12332                   227   \n",
       "2           2019       30222         20944                    86   \n",
       "0           2014        9118         13865                    19   \n",
       "\n",
       "   Quality Time  Physical Touch  Acts of Service  Receiving Gifts  \n",
       "1           172             103               70               67  \n",
       "3           150             166              130              189  \n",
       "2           116              92               78               91  \n",
       "0            59              16               12               27  "
      ]
     },
     "execution_count": 13,
     "metadata": {},
     "output_type": "execute_result"
    }
   ],
   "source": [
    "yearly_mentions.sort_values(by='Quality Time', ascending=False)"
   ]
  },
  {
   "cell_type": "markdown",
   "id": "5f110a7e",
   "metadata": {},
   "source": [
    "-- Tokenize the Lyrics"
   ]
  },
  {
   "cell_type": "code",
   "execution_count": null,
   "id": "bc3f1a01",
   "metadata": {
    "scrolled": true
   },
   "outputs": [],
   "source": [
    "#run this cell to tokenize the words in the clean_lyric column\n",
    "all_lyrics['lyrics_tok'] = all_lyrics['new_lyrics'].apply(lambda x: word_tokenize(x))"
   ]
  },
  {
   "cell_type": "code",
   "execution_count": null,
   "id": "dd89c4f2",
   "metadata": {},
   "outputs": [],
   "source": [
    "#determine what words overall are the most frequently used words\n",
    "#create a list of all the words in the lyrics_tok column\n",
    "word_list = [word for list_ in all_lyrics['lyrics_tok'] for word in list_]\n",
    "\n",
    "#use the counter function to count the number of times each word appears\n",
    "word_frequency = collections.Counter(word_list)\n",
    "#sort the word frequencies to find out the most common words she's used. \n",
    "word_frequency = sorted(word_frequency.items(), key=lambda x: x[1], reverse=True)\n",
    "#call the word frequency\n",
    "word_frequency"
   ]
  },
  {
   "cell_type": "code",
   "execution_count": null,
   "id": "935d1349",
   "metadata": {},
   "outputs": [],
   "source": [
    "#create a position variable that includes both the track number and line number\n",
    "## YOUR CODE HERE ##\n",
    "\n",
    "#create a new DataFrame that is grouped by position\n",
    "## YOUR CODE HERE ##\n"
   ]
  }
 ],
 "metadata": {
  "kernelspec": {
   "display_name": "Python 3 (ipykernel)",
   "language": "python",
   "name": "python3"
  },
  "language_info": {
   "codemirror_mode": {
    "name": "ipython",
    "version": 3
   },
   "file_extension": ".py",
   "mimetype": "text/x-python",
   "name": "python",
   "nbconvert_exporter": "python",
   "pygments_lexer": "ipython3",
   "version": "3.9.12"
  }
 },
 "nbformat": 4,
 "nbformat_minor": 5
}
