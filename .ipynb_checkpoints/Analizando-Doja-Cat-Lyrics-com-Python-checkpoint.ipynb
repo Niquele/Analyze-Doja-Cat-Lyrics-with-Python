{
 "cells": [
  {
   "cell_type": "markdown",
   "id": "304ba614",
   "metadata": {},
   "source": [
    "Analizando Doja Cat Lyrics com Python"
   ]
  },
  {
   "cell_type": "code",
   "execution_count": 1,
   "id": "427ea8e3",
   "metadata": {},
   "outputs": [],
   "source": [
    "%matplotlib inline\n",
    "\n",
    "import pandas as pd\n",
    "import string\n",
    "import seaborn as sns\n",
    "import matplotlib.pyplot as plt\n",
    "import collections\n",
    "import nltk\n",
    "from nltk.tokenize import word_tokenize\n",
    "from nltk.sentiment import SentimentIntensityAnalyzer"
   ]
  },
  {
   "cell_type": "markdown",
   "id": "df9220e8",
   "metadata": {},
   "source": [
    "01 Load Dataset"
   ]
  },
  {
   "cell_type": "code",
   "execution_count": 33,
   "id": "0bef11d2",
   "metadata": {},
   "outputs": [],
   "source": [
    "all_lyrics = pd.read_csv('Doja_Cat_lyrics_all.csv')"
   ]
  },
  {
   "cell_type": "code",
   "execution_count": 22,
   "id": "f21848c1",
   "metadata": {},
   "outputs": [
    {
     "data": {
      "text/plain": [
       "Index(['Unnamed: 0', 'Track Number', 'Track Title', 'Album Name',\n",
       "       'Year Released', 'Lyric'],\n",
       "      dtype='object')"
      ]
     },
     "execution_count": 22,
     "metadata": {},
     "output_type": "execute_result"
    }
   ],
   "source": [
    "all_lyrics.columns"
   ]
  },
  {
   "cell_type": "code",
   "execution_count": 23,
   "id": "f1a83ebe",
   "metadata": {},
   "outputs": [
    {
     "name": "stdout",
     "output_type": "stream",
     "text": [
      "<class 'pandas.core.frame.DataFrame'>\n",
      "RangeIndex: 3248 entries, 0 to 3247\n",
      "Data columns (total 6 columns):\n",
      " #   Column         Non-Null Count  Dtype \n",
      "---  ------         --------------  ----- \n",
      " 0   Unnamed: 0     3248 non-null   int64 \n",
      " 1   Track Number   3248 non-null   int64 \n",
      " 2   Track Title    3248 non-null   object\n",
      " 3   Album Name     3248 non-null   object\n",
      " 4   Year Released  3248 non-null   int64 \n",
      " 5   Lyric          3248 non-null   object\n",
      "dtypes: int64(3), object(3)\n",
      "memory usage: 152.4+ KB\n"
     ]
    }
   ],
   "source": [
    "all_lyrics.info()"
   ]
  },
  {
   "cell_type": "code",
   "execution_count": 28,
   "id": "2e1e7731",
   "metadata": {},
   "outputs": [
    {
     "data": {
      "text/html": [
       "<div>\n",
       "<style scoped>\n",
       "    .dataframe tbody tr th:only-of-type {\n",
       "        vertical-align: middle;\n",
       "    }\n",
       "\n",
       "    .dataframe tbody tr th {\n",
       "        vertical-align: top;\n",
       "    }\n",
       "\n",
       "    .dataframe thead th {\n",
       "        text-align: right;\n",
       "    }\n",
       "</style>\n",
       "<table border=\"1\" class=\"dataframe\">\n",
       "  <thead>\n",
       "    <tr style=\"text-align: right;\">\n",
       "      <th></th>\n",
       "      <th>Unnamed: 0</th>\n",
       "      <th>Track Number</th>\n",
       "      <th>Track Title</th>\n",
       "      <th>Album Name</th>\n",
       "      <th>Year Released</th>\n",
       "      <th>Lyric</th>\n",
       "    </tr>\n",
       "  </thead>\n",
       "  <tbody>\n",
       "    <tr>\n",
       "      <th>0</th>\n",
       "      <td>0</td>\n",
       "      <td>1</td>\n",
       "      <td>Woman</td>\n",
       "      <td>Planet Her</td>\n",
       "      <td>2021</td>\n",
       "      <td>b'Hey, woman\\n'</td>\n",
       "    </tr>\n",
       "    <tr>\n",
       "      <th>1</th>\n",
       "      <td>1</td>\n",
       "      <td>1</td>\n",
       "      <td>Woman</td>\n",
       "      <td>Planet Her</td>\n",
       "      <td>2021</td>\n",
       "      <td>b'Hey, woman\\n'</td>\n",
       "    </tr>\n",
       "    <tr>\n",
       "      <th>2</th>\n",
       "      <td>2</td>\n",
       "      <td>1</td>\n",
       "      <td>Woman</td>\n",
       "      <td>Planet Her</td>\n",
       "      <td>2021</td>\n",
       "      <td>b'Woman\\n'</td>\n",
       "    </tr>\n",
       "    <tr>\n",
       "      <th>3</th>\n",
       "      <td>3</td>\n",
       "      <td>1</td>\n",
       "      <td>Woman</td>\n",
       "      <td>Planet Her</td>\n",
       "      <td>2021</td>\n",
       "      <td>b'Let me be your woman\\n'</td>\n",
       "    </tr>\n",
       "    <tr>\n",
       "      <th>4</th>\n",
       "      <td>4</td>\n",
       "      <td>1</td>\n",
       "      <td>Woman</td>\n",
       "      <td>Planet Her</td>\n",
       "      <td>2021</td>\n",
       "      <td>b'Woman, woman, woman (\\n'</td>\n",
       "    </tr>\n",
       "  </tbody>\n",
       "</table>\n",
       "</div>"
      ],
      "text/plain": [
       "   Unnamed: 0  Track Number Track Title  Album Name  Year Released  \\\n",
       "0           0             1       Woman  Planet Her           2021   \n",
       "1           1             1       Woman  Planet Her           2021   \n",
       "2           2             1       Woman  Planet Her           2021   \n",
       "3           3             1       Woman  Planet Her           2021   \n",
       "4           4             1       Woman  Planet Her           2021   \n",
       "\n",
       "                        Lyric  \n",
       "0             b'Hey, woman\\n'  \n",
       "1             b'Hey, woman\\n'  \n",
       "2                  b'Woman\\n'  \n",
       "3   b'Let me be your woman\\n'  \n",
       "4  b'Woman, woman, woman (\\n'  "
      ]
     },
     "execution_count": 28,
     "metadata": {},
     "output_type": "execute_result"
    }
   ],
   "source": [
    "all_lyrics.head()"
   ]
  },
  {
   "cell_type": "markdown",
   "id": "61ecf17c",
   "metadata": {},
   "source": [
    "02 Clean the lyric text\n",
    "To accurately count keyword mentions, we need to make everything lowercase everything, remove punctuation, and exclude stop words."
   ]
  },
  {
   "cell_type": "code",
   "execution_count": 35,
   "id": "66fed5d7",
   "metadata": {},
   "outputs": [
    {
     "name": "stderr",
     "output_type": "stream",
     "text": [
      "C:\\Users\\nique\\AppData\\Local\\Temp\\ipykernel_15500\\3821473677.py:4: FutureWarning: The default value of regex will change from True to False in a future version.\n",
      "  all_lyrics['new_lyrics']= all_lyrics['new_lyrics'].str.replace('[^\\w\\s]','')\n"
     ]
    },
    {
     "data": {
      "text/html": [
       "<div>\n",
       "<style scoped>\n",
       "    .dataframe tbody tr th:only-of-type {\n",
       "        vertical-align: middle;\n",
       "    }\n",
       "\n",
       "    .dataframe tbody tr th {\n",
       "        vertical-align: top;\n",
       "    }\n",
       "\n",
       "    .dataframe thead th {\n",
       "        text-align: right;\n",
       "    }\n",
       "</style>\n",
       "<table border=\"1\" class=\"dataframe\">\n",
       "  <thead>\n",
       "    <tr style=\"text-align: right;\">\n",
       "      <th></th>\n",
       "      <th>Unnamed: 0</th>\n",
       "      <th>Track Number</th>\n",
       "      <th>Track Title</th>\n",
       "      <th>Album Name</th>\n",
       "      <th>Year Released</th>\n",
       "      <th>Lyric</th>\n",
       "      <th>new_lyrics</th>\n",
       "    </tr>\n",
       "  </thead>\n",
       "  <tbody>\n",
       "    <tr>\n",
       "      <th>0</th>\n",
       "      <td>0</td>\n",
       "      <td>1</td>\n",
       "      <td>Woman</td>\n",
       "      <td>Planet Her</td>\n",
       "      <td>2021</td>\n",
       "      <td>b'Hey, woman\\n'</td>\n",
       "      <td>bhey womann</td>\n",
       "    </tr>\n",
       "    <tr>\n",
       "      <th>1</th>\n",
       "      <td>1</td>\n",
       "      <td>1</td>\n",
       "      <td>Woman</td>\n",
       "      <td>Planet Her</td>\n",
       "      <td>2021</td>\n",
       "      <td>b'Hey, woman\\n'</td>\n",
       "      <td>bhey womann</td>\n",
       "    </tr>\n",
       "    <tr>\n",
       "      <th>2</th>\n",
       "      <td>2</td>\n",
       "      <td>1</td>\n",
       "      <td>Woman</td>\n",
       "      <td>Planet Her</td>\n",
       "      <td>2021</td>\n",
       "      <td>b'Woman\\n'</td>\n",
       "      <td>bwomann</td>\n",
       "    </tr>\n",
       "    <tr>\n",
       "      <th>3</th>\n",
       "      <td>3</td>\n",
       "      <td>1</td>\n",
       "      <td>Woman</td>\n",
       "      <td>Planet Her</td>\n",
       "      <td>2021</td>\n",
       "      <td>b'Let me be your woman\\n'</td>\n",
       "      <td>blet me be your womann</td>\n",
       "    </tr>\n",
       "    <tr>\n",
       "      <th>4</th>\n",
       "      <td>4</td>\n",
       "      <td>1</td>\n",
       "      <td>Woman</td>\n",
       "      <td>Planet Her</td>\n",
       "      <td>2021</td>\n",
       "      <td>b'Woman, woman, woman (\\n'</td>\n",
       "      <td>bwoman woman woman n</td>\n",
       "    </tr>\n",
       "  </tbody>\n",
       "</table>\n",
       "</div>"
      ],
      "text/plain": [
       "   Unnamed: 0  Track Number Track Title  Album Name  Year Released  \\\n",
       "0           0             1       Woman  Planet Her           2021   \n",
       "1           1             1       Woman  Planet Her           2021   \n",
       "2           2             1       Woman  Planet Her           2021   \n",
       "3           3             1       Woman  Planet Her           2021   \n",
       "4           4             1       Woman  Planet Her           2021   \n",
       "\n",
       "                        Lyric              new_lyrics  \n",
       "0             b'Hey, woman\\n'             bhey womann  \n",
       "1             b'Hey, woman\\n'             bhey womann  \n",
       "2                  b'Woman\\n'                 bwomann  \n",
       "3   b'Let me be your woman\\n'  blet me be your womann  \n",
       "4  b'Woman, woman, woman (\\n'    bwoman woman woman n  "
      ]
     },
     "execution_count": 35,
     "metadata": {},
     "output_type": "execute_result"
    }
   ],
   "source": [
    "#lowercase\n",
    "all_lyrics['new_lyrics'] = all_lyrics['Lyric'].str.lower()\n",
    "#remove punctuation\n",
    "all_lyrics['new_lyrics']= all_lyrics['new_lyrics'].str.replace('[^\\w\\s]','')\n",
    "#remove stopwords\n",
    "stop = ['is','it','oh','of','uh','that','this','yeah','le','might','a', 'am', 'was', 'were', 'be', 'being', 'been']\n",
    "\n",
    "all_lyrics.head()\n"
   ]
  }
 ],
 "metadata": {
  "kernelspec": {
   "display_name": "Python 3 (ipykernel)",
   "language": "python",
   "name": "python3"
  },
  "language_info": {
   "codemirror_mode": {
    "name": "ipython",
    "version": 3
   },
   "file_extension": ".py",
   "mimetype": "text/x-python",
   "name": "python",
   "nbconvert_exporter": "python",
   "pygments_lexer": "ipython3",
   "version": "3.9.12"
  }
 },
 "nbformat": 4,
 "nbformat_minor": 5
}
